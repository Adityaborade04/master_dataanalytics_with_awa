{
  "nbformat": 4,
  "nbformat_minor": 0,
  "metadata": {
    "colab": {
      "provenance": []
    },
    "kernelspec": {
      "name": "python3",
      "display_name": "Python 3"
    },
    "language_info": {
      "name": "python"
    }
  },
  "cells": [
    {
      "cell_type": "markdown",
      "source": [
        "Python Assignment: Variables, Operators and Type Casting\n",
        "\n",
        "Name : Aditya Borade\n",
        "\n",
        "Date 11/12/2024\n",
        "\n",
        "\n",
        "1.Understanding Variables:\n",
        "\n",
        "*Variables play a crucial role in Python, as they provide a way to store and manipulate data throughout a program.\n",
        "\n",
        "*variables are a fundamental concept in Python programming and are essential for any kind of data manipulation and analysis\n",
        "\n",
        "my name=\"Aditya Borade\"     \n",
        " #my name is the  variable\n",
        "print(type(my name))  \n",
        " #checking the data type\n"
      ],
      "metadata": {
        "id": "K6hgURMT2pR0"
      }
    },
    {
      "cell_type": "markdown",
      "source": [
        "1.1)what is the difference between the variable and constant\n",
        "\n",
        "The value of a variable can change, while the value of a constant remains the same:\n",
        "\n",
        "2.WORKING WITH DIFFFERENT DATA TYPES\n",
        "\n",
        "A)creating variables of the following types in Python\n",
        "\n",
        "1.integer\n",
        "\n",
        "2.float\n",
        "\n",
        "3.string\n",
        "\n",
        "4.boolean\n"
      ],
      "metadata": {
        "id": "oRtigLMj28BN"
      }
    },
    {
      "cell_type": "code",
      "source": [
        "# 1. Integer\n",
        "my_integer = 437\n",
        "print(type(my_integer))\n",
        "\n",
        "# 2. Float\n",
        "my_decimal = 5.98\n",
        "print(type(my_decimal))\n",
        "\n",
        "# 3. String\n",
        "my_text = \"Values in text\"\n",
        "print(type(my_text))\n",
        "\n",
        "# 4. Boolean\n",
        "x = True\n",
        "y = False\n",
        "\n",
        "print(type(x))\n",
        "print(type(y))"
      ],
      "metadata": {
        "colab": {
          "base_uri": "https://localhost:8080/",
          "height": 0
        },
        "id": "dhCFqJq33Vu_",
        "outputId": "181e5ae3-4ee2-4eff-9ab9-c10f3309be41"
      },
      "execution_count": 1,
      "outputs": [
        {
          "output_type": "stream",
          "name": "stdout",
          "text": [
            "<class 'int'>\n",
            "<class 'float'>\n",
            "<class 'str'>\n",
            "<class 'bool'>\n",
            "<class 'bool'>\n"
          ]
        }
      ]
    },
    {
      "cell_type": "markdown",
      "source": [
        "3. Arithmetic Operators\n",
        "a) Expalin the following arithmetic operator with example\n",
        "\n",
        ""
      ],
      "metadata": {
        "id": "WWzGUny23f1e"
      }
    },
    {
      "cell_type": "code",
      "source": [
        "#addition(+)\n",
        "num1=50\n",
        "num2=30\n",
        "sum=(num1+num2)\n",
        "print(\"sum:\",num1+num2)\n",
        "print(type(sum))"
      ],
      "metadata": {
        "colab": {
          "base_uri": "https://localhost:8080/",
          "height": 0
        },
        "id": "xJ50KnYZ9zHW",
        "outputId": "595fe54c-9c7c-411a-fa3a-996e50abc2c9"
      },
      "execution_count": 16,
      "outputs": [
        {
          "output_type": "stream",
          "name": "stdout",
          "text": [
            "sum: 80\n",
            "<class 'int'>\n"
          ]
        }
      ]
    },
    {
      "cell_type": "code",
      "source": [
        "#subtraction (-)\n",
        "num1=120\n",
        "num2=30\n",
        "sub=(num1-num2)\n",
        "print(\"sub:\",num1-num2)\n",
        "print(type(sub))"
      ],
      "metadata": {
        "colab": {
          "base_uri": "https://localhost:8080/",
          "height": 0
        },
        "id": "82H4oY-X9-kD",
        "outputId": "9c008580-58ee-49f9-94b8-999773c7f4f1"
      },
      "execution_count": 15,
      "outputs": [
        {
          "output_type": "stream",
          "name": "stdout",
          "text": [
            "sub: 90\n",
            "<class 'int'>\n"
          ]
        }
      ]
    },
    {
      "cell_type": "code",
      "source": [
        "#multiplication\n",
        "num1=20\n",
        "num2=30\n",
        "multi=(num1*num2)\n",
        "print(\"multi:\",num1*num2)"
      ],
      "metadata": {
        "colab": {
          "base_uri": "https://localhost:8080/",
          "height": 0
        },
        "id": "1nWRc5Zp_ZHd",
        "outputId": "cbf37e79-893d-4b10-9260-4e8dc04ad0c8"
      },
      "execution_count": 11,
      "outputs": [
        {
          "output_type": "stream",
          "name": "stdout",
          "text": [
            "multi: 600\n"
          ]
        }
      ]
    },
    {
      "cell_type": "code",
      "source": [
        "#floor division\n",
        "num1=50\n",
        "num2=30\n",
        "floor_div=(num1//num2)\n",
        "print(\"floor_div:\",num1//num2)\n",
        "print(type(floor_div))"
      ],
      "metadata": {
        "colab": {
          "base_uri": "https://localhost:8080/",
          "height": 0
        },
        "id": "fFl8nPCA-5gf",
        "outputId": "b51d1502-860e-4961-c291-9151d8255442"
      },
      "execution_count": 8,
      "outputs": [
        {
          "output_type": "stream",
          "name": "stdout",
          "text": [
            "floor_div: 1\n",
            "<class 'int'>\n"
          ]
        }
      ]
    },
    {
      "cell_type": "code",
      "source": [
        "#division\n",
        "num1=20\n",
        "num2=30\n",
        "div=(num1/num2)\n",
        "print(\"div:\",num1/num2)\n",
        "print(type(div))"
      ],
      "metadata": {
        "colab": {
          "base_uri": "https://localhost:8080/",
          "height": 0
        },
        "id": "i4jNgaUXAIbq",
        "outputId": "8e113734-dbf3-49ce-abe8-7c7077947e4c"
      },
      "execution_count": 12,
      "outputs": [
        {
          "output_type": "stream",
          "name": "stdout",
          "text": [
            "div: 0.6666666666666666\n",
            "<class 'float'>\n"
          ]
        }
      ]
    },
    {
      "cell_type": "code",
      "source": [
        "#modulus\n",
        "num1=80\n",
        "num2=20\n",
        "mod=(num1/num2)\n",
        "print(\"mod:\",num1/num2)\n",
        "print(type(mod))"
      ],
      "metadata": {
        "colab": {
          "base_uri": "https://localhost:8080/",
          "height": 0
        },
        "id": "6S3fVImZAJHy",
        "outputId": "f6446815-a26a-4af2-9741-2f838ac45e1c"
      },
      "execution_count": 13,
      "outputs": [
        {
          "output_type": "stream",
          "name": "stdout",
          "text": [
            "mod: 4.0\n",
            "<class 'float'>\n"
          ]
        }
      ]
    },
    {
      "cell_type": "code",
      "source": [
        "#exponential\n",
        "num1=20\n",
        "num2=30\n",
        "expo=(num1**num2)\n",
        "print(\"expo:\",num1**num2)\n",
        "print(type(expo))"
      ],
      "metadata": {
        "colab": {
          "base_uri": "https://localhost:8080/",
          "height": 0
        },
        "id": "OK_qlmOgAL2j",
        "outputId": "11f2607a-02b7-41c5-c9d4-2dd528bac6f5"
      },
      "execution_count": 17,
      "outputs": [
        {
          "output_type": "stream",
          "name": "stdout",
          "text": [
            "expo: 1073741824000000000000000000000000000000\n",
            "<class 'int'>\n"
          ]
        }
      ]
    },
    {
      "cell_type": "markdown",
      "source": [
        "b)Write a Python script to calculate the area of a rectangle using variables `length`\n",
        "and `width` with values 5 and 10, respectively. Use the multiplication operator."
      ],
      "metadata": {
        "id": "INjX_r0vAt32"
      }
    },
    {
      "cell_type": "code",
      "source": [
        "#area of rectangle\n",
        "length=5\n",
        "width=10\n",
        "area_rect=length*width\n",
        "print(\"AREA OF RECTANGLE=\",area_rect)"
      ],
      "metadata": {
        "colab": {
          "base_uri": "https://localhost:8080/",
          "height": 0
        },
        "id": "2bOo5ph_Aiis",
        "outputId": "262ca7fa-06c2-4285-af0f-9d94201c7c04"
      },
      "execution_count": 30,
      "outputs": [
        {
          "output_type": "stream",
          "name": "stdout",
          "text": [
            "AREA OF RECTANGLE= 50\n"
          ]
        }
      ]
    },
    {
      "cell_type": "markdown",
      "source": [
        "4.Comparison and Logical Operators\n",
        "\n",
        "a. Explain the following comparison operators with examples:\n"
      ],
      "metadata": {
        "id": "S4d1iAQIDUeu"
      }
    },
    {
      "cell_type": "code",
      "source": [
        "#equal to ('==')\n",
        "first_value=20\n",
        "second_value=21\n",
        "print(\"first_value\")\n",
        "print(\"second_value\")\n",
        "print(first_value==second_value)"
      ],
      "metadata": {
        "colab": {
          "base_uri": "https://localhost:8080/",
          "height": 0
        },
        "id": "uKemNDyrDfYz",
        "outputId": "ce5a2bd7-bf3d-4726-c01d-63cbceadf194"
      },
      "execution_count": 42,
      "outputs": [
        {
          "output_type": "stream",
          "name": "stdout",
          "text": [
            "first_value\n",
            "second_value\n",
            "False\n"
          ]
        }
      ]
    },
    {
      "cell_type": "code",
      "source": [
        "\n",
        "# not equal to ('!='\n",
        "num1=20\n",
        "num2=222\n",
        "print(\"num1\")\n",
        "print(\"num2\")\n",
        "print(num1!=num2)"
      ],
      "metadata": {
        "colab": {
          "base_uri": "https://localhost:8080/",
          "height": 0
        },
        "id": "nBhqWbNTEeU_",
        "outputId": "82763dbf-aa63-41dc-90a8-049710e057df"
      },
      "execution_count": 46,
      "outputs": [
        {
          "output_type": "stream",
          "name": "stdout",
          "text": [
            "num1\n",
            "num2\n",
            "True\n"
          ]
        }
      ]
    },
    {
      "cell_type": "code",
      "source": [
        "#. Greater than (`>`)\n",
        "third_value=30\n",
        "fourth_value=35\n",
        "print(third_value>fourth_value)"
      ],
      "metadata": {
        "colab": {
          "base_uri": "https://localhost:8080/",
          "height": 0
        },
        "id": "m-bLtsfYFV5D",
        "outputId": "8a5637c8-2f53-47ae-fa7b-4e3a627a4661"
      },
      "execution_count": 47,
      "outputs": [
        {
          "output_type": "stream",
          "name": "stdout",
          "text": [
            "False\n"
          ]
        }
      ]
    },
    {
      "cell_type": "code",
      "source": [
        "#Less than (`<`)\n",
        "num1=52\n",
        "num2=54\n",
        "print(num1<num2)"
      ],
      "metadata": {
        "colab": {
          "base_uri": "https://localhost:8080/",
          "height": 0
        },
        "id": "gEsXL2ekI33A",
        "outputId": "b506e0dd-af42-42f8-b7c1-9debe5751433"
      },
      "execution_count": 49,
      "outputs": [
        {
          "output_type": "stream",
          "name": "stdout",
          "text": [
            "True\n"
          ]
        }
      ]
    },
    {
      "cell_type": "code",
      "source": [
        "#Greater than or equal to (`>=`)\n",
        "first_val=22\n",
        "second_val=65\n",
        "print(first_val>=second_val)"
      ],
      "metadata": {
        "colab": {
          "base_uri": "https://localhost:8080/",
          "height": 0
        },
        "id": "H4BCCnPcJDt3",
        "outputId": "e4172464-97ce-409d-fd4d-1f6daba8397a"
      },
      "execution_count": 50,
      "outputs": [
        {
          "output_type": "stream",
          "name": "stdout",
          "text": [
            "False\n"
          ]
        }
      ]
    },
    {
      "cell_type": "code",
      "source": [
        "#Less than or equal to (`<=`)\n",
        "print(second_val>=first_val)"
      ],
      "metadata": {
        "colab": {
          "base_uri": "https://localhost:8080/",
          "height": 0
        },
        "id": "AbLs9bgvJkL6",
        "outputId": "d84e2732-06af-4ffe-ca6f-39207963dc13"
      },
      "execution_count": 51,
      "outputs": [
        {
          "output_type": "stream",
          "name": "stdout",
          "text": [
            "True\n"
          ]
        }
      ]
    },
    {
      "cell_type": "markdown",
      "source": [
        "b. Using logical operators (`and`, `or`, `not`), write a Python script that checks if a\n",
        "number is positive and even"
      ],
      "metadata": {
        "id": "2-j8gjA3KAQL"
      }
    },
    {
      "cell_type": "code",
      "source": [
        "num = 1125\n",
        "if not(num == 0):\n",
        "    if (num > 0 and num % 2 == 0):\n",
        "        print(\"Number is positive and even.\")\n",
        "    elif (num > 0 and num % 2 != 0):\n",
        "        print(\"Number is positive and odd.\")\n",
        "    else:\n",
        "        print(\"Number is negative\")\n",
        "else:\n",
        "    print(\"Number is Zero.\")"
      ],
      "metadata": {
        "colab": {
          "base_uri": "https://localhost:8080/",
          "height": 0
        },
        "id": "zUpB-MvLMcBc",
        "outputId": "55c1ea5a-7f5c-4138-e573-7bc0e3032a30"
      },
      "execution_count": 70,
      "outputs": [
        {
          "output_type": "stream",
          "name": "stdout",
          "text": [
            "Number is positive and odd.\n"
          ]
        }
      ]
    },
    {
      "cell_type": "markdown",
      "source": [
        "5.Type Casting in Python\n",
        "\n",
        "a. What is type casting? Explain the difference between implicit and explicit type\n",
        "casting with examples."
      ],
      "metadata": {
        "id": "kW_xnTg5M7Tg"
      }
    },
    {
      "cell_type": "markdown",
      "source": [
        "Type casting is the process of changing a variable's data type to another.\n",
        "\n",
        "1.\n",
        "Implicit Type Casting in C(Type Coercion) is automatically performed by the compiler when assigning values between compatible data types.\n",
        "2. Explicit Type Casting in C manually performed using the casting operator (new_data_type) to convert values between different data types.22 Jun 2024\n"
      ],
      "metadata": {
        "id": "moIhpFdpNG-Z"
      }
    },
    {
      "cell_type": "markdown",
      "source": [
        "b. Write a Python script that:"
      ],
      "metadata": {
        "id": "T4WnwSuIOoXF"
      }
    },
    {
      "cell_type": "code",
      "source": [
        "#Converts a float to an integer\n",
        "float=13.25\n",
        "print(\"float to integer conversion:\",int(float))"
      ],
      "metadata": {
        "colab": {
          "base_uri": "https://localhost:8080/",
          "height": 0
        },
        "id": "2P8C7AUuOqvc",
        "outputId": "68b9c17c-87fc-4a9e-962a-6fcfcfb39c6a"
      },
      "execution_count": 73,
      "outputs": [
        {
          "output_type": "stream",
          "name": "stdout",
          "text": [
            "float to integer conversion: 13\n"
          ]
        }
      ]
    },
    {
      "cell_type": "code",
      "source": [
        "#Converts an integer to a string\n",
        "integer=1256\n",
        "print(\"integer to string conversion:\",str(integer))"
      ],
      "metadata": {
        "colab": {
          "base_uri": "https://localhost:8080/",
          "height": 0
        },
        "id": "4G9xRK8iO-t9",
        "outputId": "3266da80-3db8-4b80-bea0-a2aae4083c1f"
      },
      "execution_count": 75,
      "outputs": [
        {
          "output_type": "stream",
          "name": "stdout",
          "text": [
            "integer to strinf conversion: 1256\n"
          ]
        }
      ]
    },
    {
      "cell_type": "code",
      "source": [
        "#Converts a string to a float\n",
        "string=253\n",
        "print(\"string to float:\",float(string))\n",
        "#conversion of string to float is not possible\n",
        "\n"
      ],
      "metadata": {
        "id": "bBx76y0EQCSN"
      },
      "execution_count": null,
      "outputs": []
    },
    {
      "cell_type": "markdown",
      "source": [
        "Practical Exercise: Mini Calculator\n",
        "Write a Python script that asks the user to input two numbers and then:\n",
        "\n",
        "\n",
        "1. Adds the two numbers and prints the result.\n",
        "2. Subtracts the second number from the first and prints the result.\n",
        "3. Multiplies the two numbers and prints the result.\n",
        "4. Divides the first number by the second and prints the result (handle division by zero).\n",
        "5. Converts the sum of the numbers to a string and prints the type of the result."
      ],
      "metadata": {
        "id": "RRUi-i9qQjwW"
      }
    },
    {
      "cell_type": "code",
      "source": [
        "n_one=int(input(\"enter your first number\"))\n",
        "n_two=int(input(\"enter youe second number\"))\n",
        "sum=n_one+n_two\n",
        "print(\"sum:\",n_one+n_two)"
      ],
      "metadata": {
        "colab": {
          "base_uri": "https://localhost:8080/",
          "height": 0
        },
        "id": "Z3mPquCxRWHu",
        "outputId": "d89ea0f6-9cea-4d24-d019-44099937d266"
      },
      "execution_count": 82,
      "outputs": [
        {
          "output_type": "stream",
          "name": "stdout",
          "text": [
            "enter your first number20\n",
            "enter youe second number10\n",
            "sum: 30\n"
          ]
        }
      ]
    },
    {
      "cell_type": "code",
      "source": [
        "sub_result=(n_one-n_two)\n",
        "print(\"sub_result:\",n_one-n_two)"
      ],
      "metadata": {
        "colab": {
          "base_uri": "https://localhost:8080/",
          "height": 0
        },
        "id": "Me6uKknFSFW6",
        "outputId": "1b663302-5447-49bb-97ca-db0f783bf5d5"
      },
      "execution_count": 83,
      "outputs": [
        {
          "output_type": "stream",
          "name": "stdout",
          "text": [
            "sub_result: 10\n"
          ]
        }
      ]
    },
    {
      "cell_type": "code",
      "source": [
        "multi_result=(n_one*n_two)\n",
        "print(\"multi_result:\",n_one*n_two)"
      ],
      "metadata": {
        "colab": {
          "base_uri": "https://localhost:8080/",
          "height": 0
        },
        "id": "_Z9912ftSiWB",
        "outputId": "d30e81a8-77ad-4ef2-cbcb-156de9c20efd"
      },
      "execution_count": 85,
      "outputs": [
        {
          "output_type": "stream",
          "name": "stdout",
          "text": [
            "multi_result: 200\n"
          ]
        }
      ]
    },
    {
      "cell_type": "code",
      "source": [
        "divide_result=n_one/n_two\n",
        "print(\"divide_result:\",n_one/n_two)"
      ],
      "metadata": {
        "colab": {
          "base_uri": "https://localhost:8080/",
          "height": 0
        },
        "id": "3otKqXapUWEr",
        "outputId": "d87aae82-848c-470d-d5b6-d16020d604bd"
      },
      "execution_count": 86,
      "outputs": [
        {
          "output_type": "stream",
          "name": "stdout",
          "text": [
            "divide_result: 2.0\n"
          ]
        }
      ]
    },
    {
      "cell_type": "code",
      "source": [
        "print(\"Data Type -->\",type(str(sum_result)))"
      ],
      "metadata": {
        "id": "xvfcidbZVeZD"
      },
      "execution_count": null,
      "outputs": []
    }
  ]
}